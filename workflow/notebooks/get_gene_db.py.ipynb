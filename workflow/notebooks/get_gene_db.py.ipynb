{
 "cells": [
  {
   "cell_type": "code",
   "execution_count": 2,
   "id": "44c2aade",
   "metadata": {},
   "outputs": [],
   "source": [
    "# Dependencies\n",
    "\n",
    "from Bio import Entrez\n",
    "import tqdm\n",
    "#TODO read this from config file\n",
    "Entrez.email =  snakemake.params[0]\n"
   ]
  },
  {
   "cell_type": "code",
   "execution_count": null,
   "id": "4e13e111",
   "metadata": {},
   "outputs": [],
   "source": [
    "Entrez.esearch(db=\"nucleotide\", retmax=10, term=\"opuntia[ORGN] accD\", idtype=\"acc\")\n",
    "\n",
    "Entrez.esummary(db=\"gene\", rnatype=\"ncrna\",100:1000[SLEN], retmode=\"xml\")"
   ]
  }
 ],
 "metadata": {
  "kernelspec": {
   "display_name": "Python 3 (ipykernel)",
   "language": "python",
   "name": "python3"
  },
  "language_info": {
   "codemirror_mode": {
    "name": "ipython",
    "version": 3
   },
   "file_extension": ".py",
   "mimetype": "text/x-python",
   "name": "python",
   "nbconvert_exporter": "python",
   "pygments_lexer": "ipython3",
   "version": "3.8.13"
  }
 },
 "nbformat": 4,
 "nbformat_minor": 5
}
