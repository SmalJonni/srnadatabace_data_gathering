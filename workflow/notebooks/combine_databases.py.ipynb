{
 "cells": [
  {
   "cell_type": "code",
   "execution_count": null,
   "id": "c9fc82bb",
   "metadata": {},
   "outputs": [],
   "source": [
    "# Dependencies\n",
    "import pandas as pd\n",
    "\n",
    "\n",
    "df_list= [pd.read_csv(i,sep=\"\\t\") for i in snakemake.input ]\n",
    "result=pd.concat(objs=df_list)\n",
    "result['Proof']=\"medium\""
   ]
  },
  {
   "cell_type": "code",
   "execution_count": null,
   "id": "527995ba",
   "metadata": {},
   "outputs": [],
   "source": [
    "result.to_csv(snakemake.output[0],sep=\"\\t\",header=True,index=False)"
   ]
  }
 ],
 "metadata": {
  "kernelspec": {
   "display_name": "Python 3 (ipykernel)",
   "language": "python",
   "name": "python3"
  },
  "language_info": {
   "codemirror_mode": {
    "name": "ipython",
    "version": 3
   },
   "file_extension": ".py",
   "mimetype": "text/x-python",
   "name": "python",
   "nbconvert_exporter": "python",
   "pygments_lexer": "ipython3",
   "version": "3.8.3"
  }
 },
 "nbformat": 4,
 "nbformat_minor": 5
}
