{
 "cells": [
  {
   "cell_type": "code",
   "execution_count": null,
   "id": "6a8d32a2",
   "metadata": {},
   "outputs": [],
   "source": [
    "# DEPENDENCIES\n",
    "library(dplyr)"
   ]
  },
  {
   "cell_type": "code",
   "execution_count": null,
   "id": "355b3752",
   "metadata": {},
   "outputs": [],
   "source": [
    "# INPUT\n",
    "apero=read.csv(snakemake@input$apero,sep=\"\\t\")\n",
    "genome_size=read.delim(snakemake@input$genome_size,header = F)[[1]]\n",
    "read_count=read.delim(snakemake@input$read_count,header = F)[[1]]"
   ]
  },
  {
   "cell_type": "code",
   "execution_count": null,
   "id": "1da30ec4",
   "metadata": {},
   "outputs": [],
   "source": [
    "# OUTPUT\n",
    "apero%>%filter(freq>(20*read_count/genome_size))%>%\n",
    "write.table(file = snakemake@output[[1]],append = F,quote = F,sep = \"\\t\",col.names = T,row.names = F)"
   ]
  }
 ],
 "metadata": {
  "kernelspec": {
   "display_name": "R",
   "language": "R",
   "name": "ir"
  },
  "language_info": {
   "codemirror_mode": "r",
   "file_extension": ".r",
   "mimetype": "text/x-r-source",
   "name": "R",
   "pygments_lexer": "r",
   "version": "4.1.3"
  }
 },
 "nbformat": 4,
 "nbformat_minor": 5
}
