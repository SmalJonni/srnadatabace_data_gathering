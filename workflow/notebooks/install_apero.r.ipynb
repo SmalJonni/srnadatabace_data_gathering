{
 "cells": [
  {
   "cell_type": "code",
   "execution_count": 4,
   "id": "20e4387c",
   "metadata": {},
   "outputs": [],
   "source": [
    "library(devtools)\n",
    "if (!require(\"APERO\",character.only = TRUE)){\n",
    "    devtools::install_github(\"Simon-Leonard/APERO\", ref = \"single_end_compatibility\")\n",
    "}\n",
    "write.table(data.frame(), file=snakemake@output[[1]], col.names=FALSE)\n"
   ]
  }
 ],
 "metadata": {
  "kernelspec": {
   "display_name": "R",
   "language": "R",
   "name": "ir"
  },
  "language_info": {
   "codemirror_mode": "r",
   "file_extension": ".r",
   "mimetype": "text/x-r-source",
   "name": "R",
   "pygments_lexer": "r",
   "version": "4.1.3"
  }
 },
 "nbformat": 4,
 "nbformat_minor": 5
}
