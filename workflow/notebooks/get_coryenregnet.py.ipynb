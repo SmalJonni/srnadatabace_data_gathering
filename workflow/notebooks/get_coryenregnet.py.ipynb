{
 "cells": [
  {
   "cell_type": "code",
   "execution_count": 5,
   "id": "9b6b6351",
   "metadata": {},
   "outputs": [],
   "source": [
    "# Dependencies\n",
    "import requests\n"
   ]
  },
  {
   "cell_type": "code",
   "execution_count": 20,
   "id": "6de2b8e9",
   "metadata": {},
   "outputs": [],
   "source": [
    "url = 'https://exbio.wzw.tum.de/coryneregnet/processToDownalod.htm'\n",
    "url =\"https://exbio.wzw.tum.de/coryneregnet/download.htm\"\n",
    "response = requests.post(url, data = {\n",
    "        \"from\":\"pred\",\n",
    "        \"organismExp\":\"0\",\n",
    "        \"organismPred\":\"0\",\n",
    "        \"searchType\":\"1\"\n",
    "    },allow_redirects=True)\n",
    "assert(response.status_code==200)\n",
    "response = requests.get(url, data = {\n",
    "        \"from\":\"pred\",\n",
    "        \"organismExp\":\"0\",\n",
    "        \"organismPred\":\"0\",\n",
    "        \"searchType\":\"1\"\n",
    "    },allow_redirects=True)\n"
   ]
  },
  {
   "cell_type": "code",
   "execution_count": 22,
   "id": "fbd46424",
   "metadata": {},
   "outputs": [],
   "source": [
    "response.url"
   ]
  },
  {
   "cell_type": "code",
   "execution_count": null,
   "id": "503e5330",
   "metadata": {},
   "outputs": [],
   "source": []
  }
 ],
 "metadata": {
  "kernelspec": {
   "display_name": "Python 3 (ipykernel)",
   "language": "python",
   "name": "python3"
  },
  "language_info": {
   "codemirror_mode": {
    "name": "ipython",
    "version": 3
   },
   "file_extension": ".py",
   "mimetype": "text/x-python",
   "name": "python",
   "nbconvert_exporter": "python",
   "pygments_lexer": "ipython3",
   "version": "3.8.13"
  }
 },
 "nbformat": 4,
 "nbformat_minor": 5
}
