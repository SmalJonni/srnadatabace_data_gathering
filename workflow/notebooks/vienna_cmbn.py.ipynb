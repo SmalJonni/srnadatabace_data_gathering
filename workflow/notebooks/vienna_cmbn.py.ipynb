{
 "cells": [
  {
   "cell_type": "code",
   "execution_count": 20,
   "id": "79a0da2a",
   "metadata": {},
   "outputs": [],
   "source": [
    "import csv\n",
    "with open(snakemake.input[0],'r',newline=\"\") as in_f: \n",
    "    with open(snakemake.output[0],'w',newline='') as out_f:\n",
    "        fieldnames = ['SID', 'Sequence','SecondaryStructure','Energy']\n",
    "        writer = csv.DictWriter(out_f, fieldnames=fieldnames,delimiter=\"\\t\", quoting=csv.QUOTE_NONE)\n",
    "        writer.writeheader()\n",
    "        counter=0\n",
    "        for line in in_f:\n",
    "            if counter==0:\n",
    "                header=line[1:].strip()\n",
    "            elif counter==1:\n",
    "                seq=line.strip()\n",
    "            else:\n",
    "                ss=line.split(\" \")[0]\n",
    "                en=float(line[len(ss):].strip().strip(\"(\").strip(\")\").strip())\n",
    "                writer.writerow({'SID': header, 'Sequence':seq ,'SecondaryStructure':ss ,'Energy':en})\n",
    "            counter=(counter+1)%3"
   ]
  }
 ],
 "metadata": {
  "kernelspec": {
   "display_name": "Python 3 (ipykernel)",
   "language": "python",
   "name": "python3"
  },
  "language_info": {
   "codemirror_mode": {
    "name": "ipython",
    "version": 3
   },
   "file_extension": ".py",
   "mimetype": "text/x-python",
   "name": "python",
   "nbconvert_exporter": "python",
   "pygments_lexer": "ipython3",
   "version": "3.9.12"
  }
 },
 "nbformat": 4,
 "nbformat_minor": 5
}
