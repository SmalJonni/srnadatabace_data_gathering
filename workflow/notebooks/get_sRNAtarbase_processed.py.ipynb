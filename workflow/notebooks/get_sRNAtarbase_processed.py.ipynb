{
 "cells": [
  {
   "cell_type": "code",
   "execution_count": 2,
   "id": "ad5324b6",
   "metadata": {},
   "outputs": [],
   "source": [
    "#Dependencies\n",
    "import requests\n",
    "import csv"
   ]
  },
  {
   "cell_type": "code",
   "execution_count": 3,
   "id": "9e0a9c23",
   "metadata": {},
   "outputs": [],
   "source": [
    "# We download information from sRNATarBase using a Post request. \n",
    "# Information for the post request was manually extracted\n",
    "# http://ccb1.bmi.ac.cn:81/srnatarbase/index.php?r=site/download\n",
    "\n",
    "url = 'http://ccb1.bmi.ac.cn:81/srnatarbase/index.php?r=site/allDownload'\n",
    "response = requests.post(url, data = {\n",
    "    \"selAll\":\"3SS\",\"targetStart\":\"\", \"targetEnd\":\"\",\"yt0\":\"\"\n",
    "})\n",
    "assert(response.status_code==200)\n"
   ]
  },
  {
   "cell_type": "code",
   "execution_count": 4,
   "id": "03d700f7",
   "metadata": {},
   "outputs": [],
   "source": [
    "def handle_header(header):\n",
    "    result=[]\n",
    "    header_list=header.split(\"|\")\n",
    "    result.append(header_list[2])\n",
    "    result.append(\"\")\n",
    "    result.append(\"sRNATarBase 3.0\")\n",
    "    result.append(header_list[7])\n",
    "    return result"
   ]
  },
  {
   "cell_type": "code",
   "execution_count": 5,
   "id": "48919c06",
   "metadata": {},
   "outputs": [],
   "source": [
    "#Create | Tax_info / Sequence / Source / Function | list of lists\n",
    "result=[]\n",
    "fasta_lines=response.text.split(\"\\n\")\n",
    "for i in fasta_lines:\n",
    "    if len(i)<1:\n",
    "        continue\n",
    "    if i[0] == \">\":\n",
    "        #init new sequence\n",
    "        result.append(handle_header(i))\n",
    "    else:\n",
    "        #grow existing sequence\n",
    "        result[len(result)-1][1]+=i.upper()\n",
    "#TODO handle empty sequences"
   ]
  },
  {
   "cell_type": "code",
   "execution_count": 9,
   "id": "13de6e11",
   "metadata": {
    "scrolled": true
   },
   "outputs": [],
   "source": [
    "#write out list of lists as tsv\n",
    "with open(snakemake.output[0], 'w', newline=\"\") as s:\n",
    "    csv.writer(s,delimiter=\"\\t\").writerow([\"Taxa\",\"Sequence\",\"Source\",\"Function\"])\n",
    "    csv.writer(s,delimiter=\"\\t\").writerows(result)"
   ]
  }
 ],
 "metadata": {
  "kernelspec": {
   "display_name": "Python 3 (ipykernel)",
   "language": "python",
   "name": "python3"
  },
  "language_info": {
   "codemirror_mode": {
    "name": "ipython",
    "version": 3
   },
   "file_extension": ".py",
   "mimetype": "text/x-python",
   "name": "python",
   "nbconvert_exporter": "python",
   "pygments_lexer": "ipython3",
   "version": "3.8.13"
  }
 },
 "nbformat": 4,
 "nbformat_minor": 5
}
