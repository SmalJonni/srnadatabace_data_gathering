{
 "cells": [
  {
   "cell_type": "code",
   "execution_count": 2,
   "id": "4bc2287f",
   "metadata": {},
   "outputs": [],
   "source": [
    "#Dependencies\n",
    "import requests \n",
    "import time\n",
    "from joblib import Parallel, delayed"
   ]
  },
  {
   "cell_type": "code",
   "execution_count": 3,
   "id": "a1bf78c9",
   "metadata": {},
   "outputs": [],
   "source": [
    "#Search for specific data in RNA central\n",
    "url = 'https://rnacentral.org/api/v1/rna'\n",
    "response = requests.get(url, params = {\n",
    "    \"max_length\":500 , \"min_length\":10 , \"tax_string\":\"Bacteria\", \"so_rna_type_name\":\"Small_regulatory_ncRNA\" ,\n",
    "    \"page_size\":100 \n",
    "})\n",
    "assert(response.status_code==200)"
   ]
  },
  {
   "cell_type": "code",
   "execution_count": 4,
   "id": "78e16e79",
   "metadata": {},
   "outputs": [],
   "source": [
    "#Extract information from json entry\n",
    "def extract_info(entry):\n",
    "    result=[]    \n",
    "    #TODO extract species info\n",
    "    result.append(\"idk\")\n",
    "    result.append(entry[\"sequence\"])        \n",
    "    result.append(\"RNAcentral\")\n",
    "    #TODO extract function info\n",
    "    result.append(\"idk\")\n",
    "    return result"
   ]
  },
  {
   "cell_type": "code",
   "execution_count": 11,
   "id": "1e415c6b",
   "metadata": {},
   "outputs": [],
   "source": [
    "#Iterate through query result \n",
    "#Create | Tax_info / Sequence / Source / Function | list of lists\n",
    "max_retry=5\n",
    "wait=60\n",
    "result=[]\n",
    "counter=0\n",
    "#Do-while loop; no idea how long it takes since count is bugged form the API. Subect to empirical testing\n",
    "while True:\n",
    "        print(\"counter:\"+str(counter))\n",
    "        counter=counter+1\n",
    "        response_json=response.json()\n",
    "        #go concurrent or go home\n",
    "        tmp=Parallel(n_jobs=snakemake.threads)(delayed(extract_info)(i) for i in response_json[\"results\"])\n",
    "        result=result+tmp\n",
    "        print(result)\n",
    "        next_response=response_json[\"next\"]\n",
    "        if next_response is None:\n",
    "            break\n",
    "        #try to get next response\n",
    "        tries=0\n",
    "        response=requests.get(next_response)\n",
    "        while (response.status_code!=200 and tries<max_retry):\n",
    "            print(\"tries:\"+str(tries))\n",
    "            time.sleep(wait)\n",
    "            response=requests.get(next_response)\n",
    "            tries= tries+1\n",
    "        assert(response.status_code==200)\n"
   ]
  },
  {
   "cell_type": "code",
   "execution_count": 5,
   "id": "d37b63ab",
   "metadata": {},
   "outputs": [],
   "source": [
    "response.json()"
   ]
  },
  {
   "cell_type": "code",
   "execution_count": null,
   "id": "ba0aa383",
   "metadata": {},
   "outputs": [],
   "source": [
    " with open(snakemake.output[0], 'w', newline=\"\") as s\n",
    "        csv.writer(s,delimiter=\"\\t\").writerows(result)"
   ]
  }
 ],
 "metadata": {
  "kernelspec": {
   "display_name": "Python 3 (ipykernel)",
   "language": "python",
   "name": "python3"
  },
  "language_info": {
   "codemirror_mode": {
    "name": "ipython",
    "version": 3
   },
   "file_extension": ".py",
   "mimetype": "text/x-python",
   "name": "python",
   "nbconvert_exporter": "python",
   "pygments_lexer": "ipython3",
   "version": "3.8.13"
  }
 },
 "nbformat": 4,
 "nbformat_minor": 5
}
