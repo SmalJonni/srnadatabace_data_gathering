{
 "cells": [
  {
   "cell_type": "code",
   "execution_count": null,
   "id": "21163ff9",
   "metadata": {},
   "outputs": [],
   "source": [
    "#Dependencies\n",
    "library(Rsamtools)\n",
    "library(reshape2)\n",
    "library(snowfall)\n",
    "library(APERO)"
   ]
  },
  {
   "cell_type": "code",
   "execution_count": null,
   "id": "396b83ef",
   "metadata": {},
   "outputs": [],
   "source": [
    "# Input\n",
    "ptt=read.csv(snakemake@input$ptt,sep=\"\\t\",skip=2,header=T,stringsAsFactors = F)\n",
    "genome_size=as.numeric(read.csv(snakemake@input$genome_size,sep=\"\\t\",header=F,stringsAsFactors = F))\n",
    "# 5'end detection\n",
    "res=APERO_start_detection(work_dir = \".\", bam_name = snakemake@input$bam, ptt_file =ptt,\n",
    "                          wmax = 10, min_dist = 10, enrichment = 0.1, min_read_number = 0, genome_size = genome_size,paired_end_data=snakemake@params$pe)\n",
    "\n",
    "\n",
    "#3'end detection\n",
    "res2=APERO_end_detection(work_dir = \".\", start_table = res, mTEX_bam = snakemake@input$bam,\n",
    "                          readthrough_proportion = 0.01, Fmin=NA, thread_number = snakemake@threads, genome_size=genome_size, ptt_file=ptt,paired_end_data=snakemake@params$pe)"
   ]
  },
  {
   "cell_type": "code",
   "execution_count": null,
   "id": "ecff2c6a",
   "metadata": {},
   "outputs": [],
   "source": [
    "#Output\n",
    "write.table(x =res2 ,file = snakemake@output[[1]],col.names = T,row.names = F,quote = F,sep = \"\\t\")"
   ]
  }
 ],
 "metadata": {
  "kernelspec": {
   "display_name": "R",
   "language": "R",
   "name": "ir"
  },
  "language_info": {
   "codemirror_mode": "r",
   "file_extension": ".r",
   "mimetype": "text/x-r-source",
   "name": "R",
   "pygments_lexer": "r",
   "version": "4.1.3"
  }
 },
 "nbformat": 4,
 "nbformat_minor": 5
}
