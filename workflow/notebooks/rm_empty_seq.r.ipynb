{
 "cells": [
  {
   "cell_type": "code",
   "execution_count": 5,
   "id": "4c82e0f2",
   "metadata": {},
   "outputs": [],
   "source": [
    "library(dplyr)\n",
    "snakemake@input[[1]]%>%read.csv(header=T,sep=\"\\t\")%>%\n",
    "filter(!is.na(Sequence))%>%\n",
    "filter(nchar(Sequence)>0)%>%write.table(file = snakemake@output[[1]],sep=\"\\t\",row.names = F,quote = F,col.names = T)"
   ]
  }
 ],
 "metadata": {
  "kernelspec": {
   "display_name": "R",
   "language": "R",
   "name": "ir"
  },
  "language_info": {
   "codemirror_mode": "r",
   "file_extension": ".r",
   "mimetype": "text/x-r-source",
   "name": "R",
   "pygments_lexer": "r",
   "version": "4.1.3"
  }
 },
 "nbformat": 4,
 "nbformat_minor": 5
}
