{
 "cells": [
  {
   "cell_type": "code",
   "execution_count": 2,
   "id": "f581747d",
   "metadata": {},
   "outputs": [],
   "source": [
    "# Dependency\n",
    "from Bio import Entrez\n",
    "import pytaxonkit as ptax\n",
    "import pandas as pd\n",
    "import time\n",
    "import os"
   ]
  },
  {
   "cell_type": "code",
   "execution_count": 3,
   "id": "8c4b2533",
   "metadata": {},
   "outputs": [],
   "source": [
    "#Input\n",
    "taxids=[int(i) for i in set(pd.read_csv(snakemake.input[0],sep=\"\\t\")[\"Taxa\"])]"
   ]
  },
  {
   "cell_type": "code",
   "execution_count": 4,
   "id": "81656ba0",
   "metadata": {},
   "outputs": [],
   "source": [
    "#Get taxnames\n",
    "species_names=ptax.name(taxids,data_dir=os.path.dirname(snakemake.input[1]))[\"Name\"]"
   ]
  },
  {
   "cell_type": "code",
   "execution_count": 5,
   "id": "193eaffb",
   "metadata": {},
   "outputs": [],
   "source": [
    "os.mkdir(snakemake.output[0])\n",
    "#Register\n",
    "Entrez.email = snakemake.params[0]\n",
    "#Output\n",
    "#approach correct result\n",
    "for index,species_name in enumerate(species_names):\n",
    "    start = time.time()\n",
    "    handle=Entrez.esearch(db=\"nucleotide\", retmax=10, term=species_name+\" [Organism]\")\n",
    "    records=Entrez.read(handle)\n",
    "    handle.close()\n",
    "    best_match=records[\"IdList\"][0]\n",
    "    handle=Entrez.esummary(db=\"nucleotide\",id=best_match)\n",
    "    record=Entrez.read(handle)\n",
    "    handle.close()\n",
    "    #TODO put safety net in place\n",
    "    #assert(species_name.upper().strip() in record[0]['Title'].upper().strip())\n",
    "    handle=Entrez.efetch(db=\"nucleotide\",id=best_match,rettype=\"fasta_cds_na\",retmode=\"text\")\n",
    "    out_fasta=handle.read()\n",
    "    handle.close()\n",
    "    time.sleep(1)\n",
    "    #Output\n",
    "    with open(snakemake.output[0]+\"/\"+str(taxids[index])+\"_mrna.fa\",'w') as outfile:\n",
    "        print(out_fasta,file=outfile)\n",
    "    time.sleep(max(0,1-(time.time()-start))) #Only 3 request/seconds are allowed..."
   ]
  },
  {
   "cell_type": "code",
   "execution_count": null,
   "id": "6664d392",
   "metadata": {},
   "outputs": [],
   "source": []
  }
 ],
 "metadata": {
  "kernelspec": {
   "display_name": "Python 3 (ipykernel)",
   "language": "python",
   "name": "python3"
  },
  "language_info": {
   "codemirror_mode": {
    "name": "ipython",
    "version": 3
   },
   "file_extension": ".py",
   "mimetype": "text/x-python",
   "name": "python",
   "nbconvert_exporter": "python",
   "pygments_lexer": "ipython3",
   "version": "3.9.12"
  }
 },
 "nbformat": 4,
 "nbformat_minor": 5
}
