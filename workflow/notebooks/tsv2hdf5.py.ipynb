{
 "cells": [
  {
   "cell_type": "code",
   "execution_count": null,
   "id": "78aa21d0",
   "metadata": {},
   "outputs": [],
   "source": [
    "#Dependency\n",
    "import h5py as h5\n",
    "import pandas as pd"
   ]
  },
  {
   "cell_type": "code",
   "execution_count": null,
   "id": "31b3a20a",
   "metadata": {},
   "outputs": [],
   "source": [
    "#Input\n",
    "seqs=pd.read_csv(filepath_or_buffer=snakemake.input[0],sep=\"\\t\")\n",
    "main=pd.read_csv(filepath_or_buffer=snakemake.input[1],sep=\"\\t\")\n",
    "taxa=pd.read_csv(filepath_or_buffer=snakemake.input[2],sep=\"\\t\")\n",
    "result=[]\n",
    "for j,i in enumerate(seqs[\"Sequence\"]):\n",
    "    if len(i)>500:\n",
    "        result=result+[j]  \n",
    "        \n",
    "\n",
    "main.drop(main[[i in [k +1 for k in result] for i in main.SID]].index, inplace=True)\n",
    "seqs.drop(seqs.index[result],inplace=True)"
   ]
  },
  {
   "cell_type": "code",
   "execution_count": null,
   "id": "bdd2dc79",
   "metadata": {},
   "outputs": [],
   "source": [
    "#Output\n",
    "hdf = pd.HDFStore(snakemake.output[0])\n",
    "hdf.put('Main', main, format='table', data_columns=True)\n",
    "hdf.put('Sequences', seqs, format='table', data_columns=True)\n",
    "hdf.put('Taxa', taxa, format='table', data_columns=True)\n",
    "hdf.close()"
   ]
  }
 ],
 "metadata": {
  "kernelspec": {
   "display_name": "Python 3 (ipykernel)",
   "language": "python",
   "name": "python3"
  },
  "language_info": {
   "codemirror_mode": {
    "name": "ipython",
    "version": 3
   },
   "file_extension": ".py",
   "mimetype": "text/x-python",
   "name": "python",
   "nbconvert_exporter": "python",
   "pygments_lexer": "ipython3",
   "version": "3.9.12"
  }
 },
 "nbformat": 4,
 "nbformat_minor": 5
}
