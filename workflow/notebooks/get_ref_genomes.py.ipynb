{
 "cells": [
  {
   "cell_type": "code",
   "execution_count": 15,
   "id": "6c2bf811",
   "metadata": {},
   "outputs": [],
   "source": [
    "#Dependency\n",
    "from Bio import Entrez\n",
    "import pytaxonkit as ptax\n",
    "import pandas as pd\n",
    "import urllib"
   ]
  },
  {
   "cell_type": "code",
   "execution_count": 16,
   "id": "ea2e7eec",
   "metadata": {},
   "outputs": [],
   "source": [
    "#Input\n",
    "tax_ids=set(pd.read_csv(snakemake.input[0],sep=\"\\t\")[\"TaxID\"])\n",
    "\n",
    "species_names=ptax.name(tax_ids,data_dir=os.path.dirname(snakemake.input[-1]))[\"Name\"]\n",
    "#Preparations\n",
    "os.makedirs(snakemake.output[0], exist_ok=True)\n",
    "os.makedirs(snakemake.output[1], exist_ok=True)\n",
    "#TODO read from config\n",
    "Entrez.email = snakemake.params[0]\n",
    "#Lookup\n",
    "for index,i in enumerate(tax_ids):\n",
    "    term=\"txid\"+str(i)+\" [Organism:exp] AND representative [PROP] AND latest [Filter]'\"\n",
    "    handle=Entrez.esearch(db=\"assembly\", retmax=10, term=term)\n",
    "    records=Entrez.read(handle)\n",
    "    handle.close()\n",
    "    try:\n",
    "        best_match=records[\"IdList\"][0]\n",
    "    except:\n",
    "        term=\"txid\"+str(i)+\" [Organism:exp]\"\n",
    "        handle=Entrez.esearch(db=\"assembly\", retmax=10, term=term)\n",
    "        records=Entrez.read(handle)\n",
    "        handle.close()\n",
    "        best_match=records[\"IdList\"][0]\n",
    "        \n",
    "    handle=Entrez.esummary(db=\"assembly\",id=best_match)\n",
    "    record=Entrez.read(handle)\n",
    "    handle.close()\n",
    "    #TODO put safety net in place\n",
    "    #assert(species_name.upper().strip() in record[0]['Title'].upper().strip())\\n\",\n",
    "    #handle=Entrez.efetch(db=\"assembly\",id=best_match,rettype=\"fasta\",retmode=\"text\")\n",
    "    #out_fasta=handle.read()\n",
    "    #handle.close()\n",
    "    url=record['DocumentSummarySet']['DocumentSummary'][0]['FtpPath_RefSeq']\n",
    "    if not url:\n",
    "        url=record['DocumentSummarySet']['DocumentSummary'][0]['FtpPath_GenBank']\n",
    "    #Output\n",
    "    outfile=snakemake.output[0]+\"/\"+str(i)+\"/genome.fa.gz\"\n",
    "    os.makedirs(os.path.dirname(outfile), exist_ok=True)\n",
    "    #with open(outfile, \"w\",newline=\"\") as f:\n",
    "    #    print(out_fasta,file=f)\n",
    "    urllib.request.urlretrieve(url+\"/\"+os.path.basename(url)+\"_genomic.fna.gz\", outfile)\n",
    "    urllib.request.urlretrieve(url+\"/\"+os.path.basename(url)+\"_genomic.gbff.gz\", snakemake.output[1]+\"/\"+str(i)+\".gbff.gz\")\n",
    "    #handle=Entrez.efetch(db=\"assembly\",id=best_match,rettype=\"gbwithparts\",retmode=\"text\")\n",
    "    #out_gbff=handle.read()\n",
    "    #handle.close()\n",
    "    \n",
    "    #Output\n",
    "    #outfile=snakemake.output[1]+\"/\"+str(i)+\".gbff\"\n",
    "    #with open(outfile, \"w\",newline=\"\") as f:\n",
    "    #    print(out_gbff,file=f)\n",
    "    \n",
    "#https://dmnfarrell.github.io/bioinformatics/assemblies-genbank-python"
   ]
  }
 ],
 "metadata": {
  "kernelspec": {
   "display_name": "Python 3 (ipykernel)",
   "language": "python",
   "name": "python3"
  },
  "language_info": {
   "codemirror_mode": {
    "name": "ipython",
    "version": 3
   },
   "file_extension": ".py",
   "mimetype": "text/x-python",
   "name": "python",
   "nbconvert_exporter": "python",
   "pygments_lexer": "ipython3",
   "version": "3.10.5"
  }
 },
 "nbformat": 4,
 "nbformat_minor": 5
}
