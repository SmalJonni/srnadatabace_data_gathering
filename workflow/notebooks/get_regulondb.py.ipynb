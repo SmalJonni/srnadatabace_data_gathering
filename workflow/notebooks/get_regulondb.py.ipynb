{
 "cells": [
  {
   "cell_type": "code",
   "execution_count": 7,
   "id": "8e9986b8",
   "metadata": {},
   "outputs": [],
   "source": [
    "#Dependencies\n",
    "import requests\n",
    "import csv"
   ]
  },
  {
   "cell_type": "code",
   "execution_count": 8,
   "id": "0857ebdb",
   "metadata": {},
   "outputs": [],
   "source": [
    "#Get sRNA info\n",
    "url=\"https://regulondb.ccg.unam.mx/menu/download/datasets/files/sRNASet.txt\"\n",
    "handle=requests.get(url, timeout=2.50, verify=False) #verify false since certificate issue on their end ...\n",
    "assert(handle.status_code==200)\n",
    "#Get reference genome\n",
    "url2=\"https://regulondb.ccg.unam.mx/menu/download/datasets/files/E_coli_K12_MG1655_U00096.3.txt\"\n",
    "handle2=requests.get(url2, timeout=2.50, verify=False) #verify false since certificate issue on their end ...\n",
    "assert(handle.status_code==200)"
   ]
  },
  {
   "cell_type": "code",
   "execution_count": 9,
   "id": "8ace4afc",
   "metadata": {},
   "outputs": [],
   "source": [
    "#Parse genome\n",
    "genome=''.join(handle2.text.split(\"\\n\")[1:])"
   ]
  },
  {
   "cell_type": "code",
   "execution_count": 10,
   "id": "2ea22157",
   "metadata": {},
   "outputs": [],
   "source": [
    "result=[]\n",
    "for line in handle.text.split(\"\\n\"):\n",
    "    if not line or line[0]==\"#\":\n",
    "        continue\n",
    "    entries=line.split(\"\\t\")\n",
    "    entries_int=[int(entries[3]),int(entries[4])]\n",
    "    result.append([\"83333\",genome[min(entries_int):max(entries_int)].upper(),\"Regulondb\",entries[6]])"
   ]
  },
  {
   "cell_type": "code",
   "execution_count": 4,
   "id": "9e4ea170",
   "metadata": {},
   "outputs": [],
   "source": [
    "with open(snakemake.output[0], 'w', newline=\"\") as s:\n",
    "    csv.writer(s,delimiter=\"\\t\").writerow([\"Taxa\",\"Sequence\",\"Source\",\"Function\"])\n",
    "    csv.writer(s,delimiter=\"\\t\").writerows(result)"
   ]
  }
 ],
 "metadata": {
  "kernelspec": {
   "display_name": "Python 3 (ipykernel)",
   "language": "python",
   "name": "python3"
  },
  "language_info": {
   "codemirror_mode": {
    "name": "ipython",
    "version": 3
   },
   "file_extension": ".py",
   "mimetype": "text/x-python",
   "name": "python",
   "nbconvert_exporter": "python",
   "pygments_lexer": "ipython3",
   "version": "3.8.13"
  }
 },
 "nbformat": 4,
 "nbformat_minor": 5
}
