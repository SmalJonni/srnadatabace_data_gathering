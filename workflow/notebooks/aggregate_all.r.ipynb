{
 "cells": [
  {
   "cell_type": "code",
   "execution_count": null,
   "id": "5a620e22",
   "metadata": {},
   "outputs": [],
   "source": [
    "library(dplyr)\n",
    "lit=read.csv(snakemake@input$lit,header=T,sep=\"\\t\")\n",
    "db=read.csv(snakemake@input$db,header=T,sep=\"\\t\")\n",
    "ngs=read.csv(snakemake@input$ngs,header=T,sep=\"\\t\")\n"
   ]
  },
  {
   "cell_type": "code",
   "execution_count": null,
   "id": "37ad2678",
   "metadata": {},
   "outputs": [],
   "source": [
    "lit<-lit%>%select(!c(index,start,end,X,strand,name,Accession))%>%rename(Sequence=seq,Taxa=taxid)%>%mutate(Source=\"Literature\",Function=\"idk\",OSID=\"\",Proof=\"high\",Taxa=as.character(Taxa))\n",
    "result=bind_rows(db,lit,ngs)"
   ]
  },
  {
   "cell_type": "code",
   "execution_count": null,
   "id": "572fc712",
   "metadata": {},
   "outputs": [],
   "source": [
    "write.table(x = result,file = snakemake@output[[1]],col.names=T,row.names=F,sep=\"\\t\",quote = F)"
   ]
  }
 ],
 "metadata": {
  "kernelspec": {
   "display_name": "R",
   "language": "R",
   "name": "ir"
  },
  "language_info": {
   "codemirror_mode": "r",
   "file_extension": ".r",
   "mimetype": "text/x-r-source",
   "name": "R",
   "pygments_lexer": "r",
   "version": "4.1.3"
  }
 },
 "nbformat": 4,
 "nbformat_minor": 5
}
