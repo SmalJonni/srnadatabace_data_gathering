{
 "cells": [
  {
   "cell_type": "code",
   "execution_count": null,
   "id": "de04276d",
   "metadata": {},
   "outputs": [],
   "source": [
    "import csv"
   ]
  },
  {
   "cell_type": "code",
   "execution_count": null,
   "id": "5777f91c",
   "metadata": {},
   "outputs": [],
   "source": [
    "# INPUT\n",
    "apero_fasta=snakemake.input[0]\n",
    "gbff=snakemake.input[1]"
   ]
  },
  {
   "cell_type": "code",
   "execution_count": null,
   "id": "fdf633d1",
   "metadata": {},
   "outputs": [],
   "source": [
    "#Get taxon id\n",
    "with open(gbff,'r') as in_f:\n",
    "    for i in in_f:\n",
    "        if \"taxon:\" in i:\n",
    "            taxon=i\n",
    "            break\n",
    "taxid=int(taxon[taxon.find(\"taxon\")+5:].strip().strip(\":\").strip('\"'))\n",
    "#TODO what if not found?"
   ]
  },
  {
   "cell_type": "code",
   "execution_count": null,
   "id": "0d12859d",
   "metadata": {},
   "outputs": [],
   "source": [
    "# OUTPUT\n",
    "with open(apero_fasta,'r') as in_f:\n",
    "    with open(snakemake.output[0],'w') as out_f:\n",
    "        fieldnames = [\"Taxa\",\"Sequence\",\"Source\",\"Function\"]\n",
    "        writer = csv.DictWriter(out_f, fieldnames=fieldnames,delimiter=\"\\t\", quoting=csv.QUOTE_NONE)\n",
    "        writer.writeheader()\n",
    "        for i,line in enumerate(in_f):\n",
    "            if i%2!=0:\n",
    "                writer.writerow({\"Taxa\":taxid,\"Sequence\":line.strip(),\"Source\":\"SRA\",\"Function\":\"idk\"})"
   ]
  }
 ],
 "metadata": {
  "kernelspec": {
   "display_name": "Python 3 (ipykernel)",
   "language": "python",
   "name": "python3"
  },
  "language_info": {
   "codemirror_mode": {
    "name": "ipython",
    "version": 3
   },
   "file_extension": ".py",
   "mimetype": "text/x-python",
   "name": "python",
   "nbconvert_exporter": "python",
   "pygments_lexer": "ipython3",
   "version": "3.10.5"
  }
 },
 "nbformat": 4,
 "nbformat_minor": 5
}
