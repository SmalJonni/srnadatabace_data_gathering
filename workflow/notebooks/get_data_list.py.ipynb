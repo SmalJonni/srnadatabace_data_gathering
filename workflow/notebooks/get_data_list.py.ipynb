{
 "cells": [
  {
   "cell_type": "code",
   "execution_count": 7,
   "id": "6c2bf811",
   "metadata": {},
   "outputs": [],
   "source": [
    "#Dependency\n",
    "from Bio import Entrez\n",
    "import csv\n",
    "import xml.etree.ElementTree as ET"
   ]
  },
  {
   "cell_type": "code",
   "execution_count": 13,
   "id": "ea2e7eec",
   "metadata": {},
   "outputs": [],
   "source": [
    "def extract(in_string,pattern):\n",
    "    found=in_string.find(pattern)\n",
    "    if found>=0:\n",
    "        return in_string[len(pattern)+found:].split(\" \")[0].strip('\"\"')\n",
    "    return \"\"\n",
    "\n",
    "def getAccession(id):   \n",
    "        print(id)\n",
    "        handle = Entrez.esummary(db=\"sra\", id=id)\n",
    "        record = Entrez.read(handle)\n",
    "        handle.close()\n",
    "        #Handle terribly formatted XML\n",
    "        Accessions=[]\n",
    "        query_string=record[0][\"Runs\"]\n",
    "        #don't blame me for python not having do while loops\n",
    "        while True:\n",
    "            extraction=extract(query_string,\"Run acc=\")\n",
    "            if not extraction:\n",
    "                break\n",
    "            Accessions.append(extraction)\n",
    "            query_string=query_string[query_string.find(extraction):]\n",
    "        #Extract taxnomic info \n",
    "        try:\n",
    "            taxid=int(extract(record[0][\"ExpXml\"].upper(),\"TAXID=\"))\n",
    "        except:\n",
    "            taxid=\"\"\n",
    "        return [[i,taxid] for i in Accessions]\n",
    "\n",
    "Entrez.email = snakemake.params[0]\n",
    "\n",
    "db= \"sra\"\n",
    "term = \"(size+fractionation)&bacteria[Organism]&(sRNA|(small+RNA))\"\n",
    "\n",
    "#TODO in test if more querying is required\n",
    "handle = Entrez.esearch(db = db, term = term, retmax= 100000)\n",
    "record = Entrez.read(handle)\n",
    "handle.close()\n",
    "\n",
    "#TODO remove after testing\n",
    "Accessions=[['SRR18745680', 208964],\n",
    "['SRR18745681', 381754],\n",
    "['SRR18745682', 446],\n",
    "['SRR18745683', 1280],\n",
    "['SRR18745684', 90371],\n",
    "['SRR18745685', 511145],\n",
    "['SRR18745686', 511145],\n",
    "['SRR18745687', 511145],\n",
    "['SRR18745688', 511145],\n",
    "['SRR18745689', 511145],\n",
    "['SRR18745690', 511145],\n",
    "['SRR17278612', 469008],\n",
    "['SRR17278613', 469008],\n",
    "['SRR17730383', 83332],\n",
    "['SRR17730384', 83332],\n",
    "['SRR17730385', 83332],\n",
    "['SRR17730386', 83332],\n",
    "['SRR17730395', 83332],\n",
    "['SRR17730396', 83332]]\n",
    "\n",
    "\n",
    "Accessions=[] \n",
    "for id in record[\"IdList\"]:\n",
    "    Accessions+=getAccession(id)\n",
    "\n"
   ]
  },
  {
   "cell_type": "code",
   "execution_count": 10,
   "id": "e2fd8335",
   "metadata": {},
   "outputs": [],
   "source": [
    "#Output\n",
    "with open(snakemake.output[0], \"w\",newline=\"\") as f:\n",
    "    writer = csv.writer(f,delimiter='\\t', quoting=csv.QUOTE_NONE)\n",
    "    writer.writerow([\"Accession\",\"TaxID\"])\n",
    "    writer.writerows(Accessions)"
   ]
  }
 ],
 "metadata": {
  "kernelspec": {
   "display_name": "Python 3 (ipykernel)",
   "language": "python",
   "name": "python3"
  },
  "language_info": {
   "codemirror_mode": {
    "name": "ipython",
    "version": 3
   },
   "file_extension": ".py",
   "mimetype": "text/x-python",
   "name": "python",
   "nbconvert_exporter": "python",
   "pygments_lexer": "ipython3",
   "version": "3.10.5"
  }
 },
 "nbformat": 4,
 "nbformat_minor": 5
}
