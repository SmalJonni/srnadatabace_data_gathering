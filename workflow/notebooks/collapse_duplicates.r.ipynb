{
 "cells": [
  {
   "cell_type": "code",
   "execution_count": 2,
   "id": "b1aec1c8",
   "metadata": {},
   "outputs": [],
   "source": [
    "# Dependencies\n",
    "library(dplyr)\n"
   ]
  },
  {
   "cell_type": "code",
   "execution_count": 3,
   "id": "baeda953",
   "metadata": {},
   "outputs": [],
   "source": [
    "# Input\n",
    "input<-read.csv(snakemake@input[[1]],sep=\"\\t\",header=T)\n",
    "#dups<-input%>%select(Taxa,Sequence)%>%(function(x){duplicated(x)|duplicated(x,fromLast = T)})()"
   ]
  },
  {
   "cell_type": "code",
   "execution_count": 4,
   "id": "939b74e0",
   "metadata": {},
   "outputs": [],
   "source": [
    "# Processing\n",
    "#TODO improve logic here\n",
    "input$na<-apply(is.na(input),1,sum)\n",
    "input$index<-1:nrow(input)\n",
    "result<-input%>%arrange(by=desc(na))\n",
    "result<-result[!(result%>%select(Taxa,Sequence)%>%duplicated()),]%>%arrange(by=desc(index))%>%select(!c(na,index))"
   ]
  },
  {
   "cell_type": "code",
   "execution_count": 5,
   "id": "ec1c433a",
   "metadata": {},
   "outputs": [],
   "source": [
    "result<-result%>%filter(nchar(Sequence)<500)"
   ]
  },
  {
   "cell_type": "code",
   "execution_count": 6,
   "id": "82434114",
   "metadata": {},
   "outputs": [],
   "source": [
    "# Output\n",
    "write.table(result,snakemake@output[[1]],sep=\"\\t\",col.names = T,row.names = F,quote = F)"
   ]
  }
 ],
 "metadata": {
  "kernelspec": {
   "display_name": "R",
   "language": "R",
   "name": "ir"
  },
  "language_info": {
   "codemirror_mode": "r",
   "file_extension": ".r",
   "mimetype": "text/x-r-source",
   "name": "R",
   "pygments_lexer": "r",
   "version": "4.1.3"
  }
 },
 "nbformat": 4,
 "nbformat_minor": 5
}
