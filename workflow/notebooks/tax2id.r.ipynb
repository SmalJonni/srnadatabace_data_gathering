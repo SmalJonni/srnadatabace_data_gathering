{
 "cells": [
  {
   "cell_type": "code",
   "execution_count": 5,
   "id": "71d968e6",
   "metadata": {},
   "outputs": [],
   "source": [
    "#Dependencies\n",
    "library(dplyr)\n",
    "library(taxize)"
   ]
  },
  {
   "cell_type": "code",
   "execution_count": 15,
   "id": "3cbf9384",
   "metadata": {},
   "outputs": [],
   "source": [
    "#Input\n",
    "in_df<-read.csv(snakemake@input[[1]],header=T,sep=\"\\t\")\n",
    "tax_to_resolve<-unique(in_df$Taxa[grepl(pattern=\"[a-zA-Z]\",in_df$Taxa)])"
   ]
  },
  {
   "cell_type": "code",
   "execution_count": 29,
   "id": "2ebd9661",
   "metadata": {},
   "outputs": [],
   "source": [
    "#Query\n",
    "species=sapply(tax_to_resolve,function(x) paste(strsplit(x,split=\" \",fixed=T)[[1]][1:2],collapse=\" \"))\n",
    "tmp<-get_uid(species)"
   ]
  },
  {
   "cell_type": "code",
   "execution_count": 39,
   "id": "80ecde3b",
   "metadata": {},
   "outputs": [],
   "source": [
    "#Document\n",
    "if (any(is.na(as.vector(tmp)))){\n",
    "    print(\"Taxonomies unassigned\")\n",
    "    species[is.na(as.vector(tmp))]\n",
    "}"
   ]
  },
  {
   "cell_type": "code",
   "execution_count": null,
   "id": "f7f8763f",
   "metadata": {},
   "outputs": [],
   "source": [
    "#Output\n",
    "result=cbind.data.frame(\"ID\"=as.numeric(tmp),\"Name\"=tax_to_resolve)\n",
    "write.table(x = result,file = snakemake@output[[1]],sep=\"\\t\",row.names = F,col.names = T, quote = F)"
   ]
  }
 ],
 "metadata": {
  "kernelspec": {
   "display_name": "R",
   "language": "R",
   "name": "ir"
  },
  "language_info": {
   "codemirror_mode": "r",
   "file_extension": ".r",
   "mimetype": "text/x-r-source",
   "name": "R",
   "pygments_lexer": "r",
   "version": "4.1.3"
  }
 },
 "nbformat": 4,
 "nbformat_minor": 5
}
