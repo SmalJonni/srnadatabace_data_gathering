{
 "cells": [
  {
   "cell_type": "code",
   "execution_count": 2,
   "id": "b1c52610",
   "metadata": {},
   "outputs": [],
   "source": [
    "#Dependencies\n",
    "import pandas as pd\n",
    "from os.path import exists\n",
    "import csv"
   ]
  },
  {
   "cell_type": "code",
   "execution_count": 3,
   "id": "e769bbf0",
   "metadata": {},
   "outputs": [],
   "source": [
    "flag=True\n",
    "counter=0\n",
    "os.makedirs(snakemake.output[0],exist_ok=True)\n",
    "with open(snakemake.input[0],'r', newline='') as in_f:\n",
    "    reader = csv.DictReader(in_f,delimiter='\\t', quoting=csv.QUOTE_NONE)\n",
    "    for row in reader:\n",
    "        counter=counter+1\n",
    "        taxid=str(int(row[\"Taxa\"]))\n",
    "        with open(snakemake.output[0]+\"/\"+taxid+\"_srna.fa\",'a') as out_f:\n",
    "            print(\">\"+taxid+\"_\"+str(counter),file=out_f)\n",
    "            print(row[\"Sequence\"],file=out_f)"
   ]
  }
 ],
 "metadata": {
  "kernelspec": {
   "display_name": "Python 3 (ipykernel)",
   "language": "python",
   "name": "python3"
  },
  "language_info": {
   "codemirror_mode": {
    "name": "ipython",
    "version": 3
   },
   "file_extension": ".py",
   "mimetype": "text/x-python",
   "name": "python",
   "nbconvert_exporter": "python",
   "pygments_lexer": "ipython3",
   "version": "3.8.3"
  }
 },
 "nbformat": 4,
 "nbformat_minor": 5
}
