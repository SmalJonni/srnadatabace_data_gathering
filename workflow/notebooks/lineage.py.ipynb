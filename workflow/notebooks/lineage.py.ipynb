{
 "cells": [
  {
   "cell_type": "code",
   "execution_count": null,
   "id": "a05d565b",
   "metadata": {},
   "outputs": [],
   "source": [
    "# Dependency\n",
    "import pytaxonkit as ptax\n",
    "import pandas as pd\n",
    "import os\n",
    "import math"
   ]
  },
  {
   "cell_type": "code",
   "execution_count": null,
   "id": "43b7fccf",
   "metadata": {},
   "outputs": [],
   "source": [
    "# INPUT\n",
    "unique_taxa=set(pd.read_csv(snakemake.input[0],sep=\"\\t\")[\"Taxa\"])\n",
    "lineage_df=ptax.lineage(unique_taxa,data_dir=os.path.dirname(snakemake.input[1]))"
   ]
  },
  {
   "cell_type": "code",
   "execution_count": null,
   "id": "9c2d7c93",
   "metadata": {},
   "outputs": [],
   "source": [
    "#Fix code taxid issue\n",
    "result=[]\n",
    "for index, row in lineage_df.iterrows():\n",
    "    if row[\"TaxID\"]!=row[\"Code\"]:\n",
    "        tmp=row\n",
    "        tmp[\"TaxID\"]=tmp[\"Code\"]\n",
    "        result.append(tmp)\n",
    "lineage_df=lineage_df.append(result)\n",
    "#TODO change to concat"
   ]
  },
  {
   "cell_type": "code",
   "execution_count": null,
   "id": "44aa4fd7",
   "metadata": {},
   "outputs": [],
   "source": [
    "#reformat_df\n",
    "result=[]\n",
    "for index, row in lineage_df.iterrows():\n",
    "    x=row[\"FullLineageRanks\"].split(\";\")\n",
    "    y=[int(i) for i in row[\"FullLineageTaxIDs\"].split(\";\")]\n",
    "    z=dict(zip(x, y))\n",
    "    z.pop('no rank', None)\n",
    "    z[\"TaxID\"]=row[\"TaxID\"]\n",
    "    z[\"Name\"]=row[\"Name\"]\n",
    "    result.append(z)\n",
    "result=pd.DataFrame(data=result)\n",
    "relevant_columns=[\"superkingdom\",\"clade\",\"phylum\",\"class\",\"order\",\"family\",\"genus\",\"species\",\"strain\",\"TaxID\",\"Name\"]\n",
    "result=result[relevant_columns]\n",
    "result.rename(columns={\"TaxID\": \"Taxa\"},inplace=True)"
   ]
  },
  {
   "cell_type": "code",
   "execution_count": null,
   "id": "0de9cd55",
   "metadata": {},
   "outputs": [],
   "source": [
    "# OUTPUT\n",
    "with open(snakemake.output[0],'w') as out_f:\n",
    "    result.to_csv(out_f,sep=\"\\t\", index=False)"
   ]
  }
 ],
 "metadata": {
  "kernelspec": {
   "display_name": "Python 3 (ipykernel)",
   "language": "python",
   "name": "python3"
  },
  "language_info": {
   "codemirror_mode": {
    "name": "ipython",
    "version": 3
   },
   "file_extension": ".py",
   "mimetype": "text/x-python",
   "name": "python",
   "nbconvert_exporter": "python",
   "pygments_lexer": "ipython3",
   "version": "3.9.12"
  }
 },
 "nbformat": 4,
 "nbformat_minor": 5
}
