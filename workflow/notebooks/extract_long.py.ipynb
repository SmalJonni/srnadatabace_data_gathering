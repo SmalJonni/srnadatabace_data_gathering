{
 "cells": [
  {
   "cell_type": "code",
   "execution_count": null,
   "id": "66139fbc",
   "metadata": {},
   "outputs": [],
   "source": [
    "import gzip"
   ]
  },
  {
   "cell_type": "code",
   "execution_count": null,
   "id": "b1582bd9",
   "metadata": {},
   "outputs": [],
   "source": [
    "\n",
    "with gzip.open(snakemake.input[0],'rt', encoding='utf-8') as in_f:\n",
    "    max_sequence=\"\"\n",
    "    max_header=\"\"\n",
    "    current_sequence=\"\"\n",
    "    current_header=\"\"\n",
    "    for line in in_f:\n",
    "        # at the start of new sequence check for a new local maxima\n",
    "        if line[0]==\">\":\n",
    "            if len(current_sequence)>len(max_sequence):\n",
    "                max_sequence=current_sequence\n",
    "                max_header=current_header\n",
    "            current_header=line\n",
    "            current_sequence=\"\"\n",
    "        else:\n",
    "            current_sequence=current_sequence+line.strip()\n",
    "#last iteration\n",
    "if len(current_sequence)>len(max_sequence):\n",
    "                max_sequence=current_sequence\n",
    "                max_header=current_header\n",
    "\n",
    "        "
   ]
  },
  {
   "cell_type": "code",
   "execution_count": null,
   "id": "f42fed18",
   "metadata": {},
   "outputs": [],
   "source": [
    "with open(snakemake.output[0],'wt') as out_f:\n",
    "    print(max_header.strip(),file=out_f)\n",
    "    print(max_sequence.strip(),file=out_f)"
   ]
  }
 ],
 "metadata": {
  "kernelspec": {
   "display_name": "Python 3 (ipykernel)",
   "language": "python",
   "name": "python3"
  },
  "language_info": {
   "codemirror_mode": {
    "name": "ipython",
    "version": 3
   },
   "file_extension": ".py",
   "mimetype": "text/x-python",
   "name": "python",
   "nbconvert_exporter": "python",
   "pygments_lexer": "ipython3",
   "version": "3.10.5"
  }
 },
 "nbformat": 4,
 "nbformat_minor": 5
}
