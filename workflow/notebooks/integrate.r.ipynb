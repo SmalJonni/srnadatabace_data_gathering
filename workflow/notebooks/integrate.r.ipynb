{
 "cells": [
  {
   "cell_type": "code",
   "execution_count": 2,
   "id": "10c1157f",
   "metadata": {},
   "outputs": [],
   "source": [
    "#Dependencies\n",
    "library(dplyr)"
   ]
  },
  {
   "cell_type": "code",
   "execution_count": 3,
   "id": "75c7ba3d",
   "metadata": {},
   "outputs": [],
   "source": [
    "#Input\n",
    "original<-read.csv(snakemake@input[[1]],header=T,sep=\"\\t\")\n",
    "taxmap<-read.csv(snakemake@input[[2]],header=T,sep=\"\\t\")\n",
    "taxmap<-setNames(taxmap$ID,taxmap$Name)"
   ]
  },
  {
   "cell_type": "code",
   "execution_count": 4,
   "id": "ea7d180f",
   "metadata": {},
   "outputs": [],
   "source": [
    "#Change taxonomies\n",
    "selector=original$Taxa%in%names(taxmap)\n",
    "original$Taxa[selector]<- taxmap[original$Taxa[selector]]"
   ]
  },
  {
   "cell_type": "code",
   "execution_count": 5,
   "id": "5a8276a9",
   "metadata": {},
   "outputs": [],
   "source": [
    "#Output\n",
    "write.table(original%>%filter(!is.na(Taxa))%>%mutate(Taxa=as.numeric(Taxa))%>%filter(!is.na(Taxa)),file = snakemake@output[[1]],sep=\"\\t\",row.names = F,col.names = T,quote=F)"
   ]
  }
 ],
 "metadata": {
  "kernelspec": {
   "display_name": "R",
   "language": "R",
   "name": "ir"
  },
  "language_info": {
   "codemirror_mode": "r",
   "file_extension": ".r",
   "mimetype": "text/x-r-source",
   "name": "R",
   "pygments_lexer": "r",
   "version": "4.1.3"
  }
 },
 "nbformat": 4,
 "nbformat_minor": 5
}
