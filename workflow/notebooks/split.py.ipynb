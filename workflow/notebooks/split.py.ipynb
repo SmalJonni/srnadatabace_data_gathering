{
 "cells": [
  {
   "cell_type": "code",
   "execution_count": null,
   "id": "58066c50",
   "metadata": {},
   "outputs": [],
   "source": [
    "import pandas as pd\n",
    "in_file=snakemake.input[0]"
   ]
  },
  {
   "cell_type": "code",
   "execution_count": null,
   "id": "41b83295",
   "metadata": {},
   "outputs": [],
   "source": [
    "full_table=pd.read_csv(filepath_or_buffer=in_file,sep=\"\\t\")\n",
    "full_table[\"Sequence\"]=[i.upper().replace(\"T\",\"U\") for i in full_table[\"Sequence\"]]\n",
    "seqs=full_table[\"Sequence\"]\n",
    "seq_uniq=list(set(seqs))\n",
    "seq_dict=dict(zip(seq_uniq,list(range(1,1+len(seq_uniq)))))\n",
    "full_table[\"SID\"]=[seq_dict[i] for i in full_table[\"Sequence\"]]\n",
    "sequence_table=pd.DataFrame({'SID': list(seq_dict.values()), 'Sequence': list(seq_dict.keys())})"
   ]
  },
  {
   "cell_type": "code",
   "execution_count": null,
   "id": "3045ebe0",
   "metadata": {},
   "outputs": [],
   "source": [
    "sequence_out=snakemake.output[0]\n",
    "meta_out=snakemake.output[1]\n",
    "full_table.drop(columns=[\"Sequence\"]).to_csv(meta_out,sep=\"\\t\", index=False)\n",
    "sequence_table.to_csv(sequence_out,sep=\"\\t\", index=False)"
   ]
  }
 ],
 "metadata": {
  "kernelspec": {
   "display_name": "Python 3 (ipykernel)",
   "language": "python",
   "name": "python3"
  },
  "language_info": {
   "codemirror_mode": {
    "name": "ipython",
    "version": 3
   },
   "file_extension": ".py",
   "mimetype": "text/x-python",
   "name": "python",
   "nbconvert_exporter": "python",
   "pygments_lexer": "ipython3",
   "version": "3.9.12"
  }
 },
 "nbformat": 4,
 "nbformat_minor": 5
}
